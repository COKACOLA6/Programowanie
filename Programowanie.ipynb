{
 "cells": [
  {
   "cell_type": "code",
   "execution_count": null,
   "metadata": {},
   "outputs": [],
   "source": [
    "print(\"Hello world\")"
   ]
  },
  {
   "cell_type": "markdown",
   "metadata": {},
   "source": [
    "git config --global user.email \"leon777cio@gmail.com\"\n",
    "git config --global user.name \"Leon\""
   ]
  },
  {
   "cell_type": "markdown",
   "metadata": {},
   "source": [
    "# print(\"Hello\")"
   ]
  },
  {
   "cell_type": "code",
   "execution_count": null,
   "metadata": {},
   "outputs": [],
   "source": [
    "print(\"Hello\")"
   ]
  },
  {
   "cell_type": "code",
   "execution_count": null,
   "metadata": {},
   "outputs": [],
   "source": [
    "lista = []\n",
    "print(lista)"
   ]
  },
  {
   "cell_type": "code",
   "execution_count": null,
   "metadata": {},
   "outputs": [],
   "source": [
    "print(type(4))"
   ]
  },
  {
   "cell_type": "code",
   "execution_count": null,
   "metadata": {},
   "outputs": [],
   "source": [
    "lista.append(lista)\n",
    "print(lista)"
   ]
  },
  {
   "cell_type": "code",
   "execution_count": null,
   "metadata": {},
   "outputs": [],
   "source": [
    "pojemnik = []\n",
    "lista2 = [[1,2,3,4],[5,0,0,0],[6,0,0,0]]\n",
    "for i in range(3):\n",
    "    for j in range(4):\n",
    "        pojemnik.append(lista2[i][j])\n",
    "        # print(lista2[i][j])\n",
    "    print(pojemnik)\n",
    "    pojemnik = []"
   ]
  },
  {
   "cell_type": "code",
   "execution_count": null,
   "metadata": {},
   "outputs": [],
   "source": [
    "list(range(1,11,2))"
   ]
  },
  {
   "cell_type": "code",
   "execution_count": 20,
   "metadata": {},
   "outputs": [],
   "source": [
    "lista.append([3])"
   ]
  },
  {
   "cell_type": "code",
   "execution_count": null,
   "metadata": {},
   "outputs": [],
   "source": [
    "buf = []\n",
    "lista = [\"Kamil\",\"Andrzej\",\"Leon\",\"Jurek\"]\n",
    "for i in range(2):\n",
    "    for j in range(2):\n",
    "        ij = i*2 + j*1\n",
    "        temp = f\"{lista[ij]: >10}\"\n",
    "        buf.append(temp)\n",
    "    tekst = \" \".join(buf)\n",
    "    print(tekst)\n",
    "    buf = []"
   ]
  },
  {
   "cell_type": "code",
   "execution_count": null,
   "metadata": {},
   "outputs": [],
   "source": [
    "tekst = \"\"\n",
    "for i in range(5):\n",
    "    temp = f\"{\"*\":>2}\"\n",
    "    print(temp)\n",
    "    for j in range(5):\n",
    "        tekst = \"***\" + tekst + temp\n",
    "        print(tekst)\n",
    "tekst = \"\"\n",
    "for k in range(3):\n",
    "    tekst = tekst + \"*\"\n",
    "for l in range(5):\n",
    "    print(tekst)\n",
    "    "
   ]
  },
  {
   "cell_type": "code",
   "execution_count": null,
   "metadata": {},
   "outputs": [],
   "source": [
    "00\n",
    "01\n",
    "10\n",
    "11\n",
    "100\n",
    "15 = 1*10+5*1\n",
    "154 = 1*100+5*10+4*1\n",
    "00 = 0*0\n",
    "01 = 1*1\n",
    "10 = 1*2 + 0*1\n",
    "ij = i*2 + j*1"
   ]
  }
 ],
 "metadata": {
  "kernelspec": {
   "display_name": "Python 3",
   "language": "python",
   "name": "python3"
  },
  "language_info": {
   "codemirror_mode": {
    "name": "ipython",
    "version": 3
   },
   "file_extension": ".py",
   "mimetype": "text/x-python",
   "name": "python",
   "nbconvert_exporter": "python",
   "pygments_lexer": "ipython3",
   "version": "3.12.5"
  }
 },
 "nbformat": 4,
 "nbformat_minor": 2
}
